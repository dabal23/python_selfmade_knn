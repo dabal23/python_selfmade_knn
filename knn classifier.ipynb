{
 "cells": [
  {
   "cell_type": "markdown",
   "id": "0cf940ca",
   "metadata": {},
   "source": [
    "# Function"
   ]
  },
  {
   "cell_type": "markdown",
   "id": "b04c7961",
   "metadata": {},
   "source": [
    "## knn"
   ]
  },
  {
   "cell_type": "code",
   "execution_count": 146,
   "id": "94649354",
   "metadata": {},
   "outputs": [],
   "source": [
    "# knn\n",
    "def knn_classifier(data,predict,neightbours):\n",
    "    target = data.iloc[:, -1]\n",
    "    data = data.drop(columns=df.columns[-1])\n",
    "    predict = predict.drop(columns=df.columns[-1])\n",
    "    \n",
    "    # create label for target\n",
    "    key_label = {}\n",
    "    for i, value in enumerate(target.unique()):\n",
    "        key_label[i] = value\n",
    "    key_label\n",
    "\n",
    "    global y_label\n",
    "    # labelling target\n",
    "    y_label = []\n",
    "    for i in target:\n",
    "        for j,m in key_label.items():\n",
    "            if i == m :\n",
    "                y_label.append(j)\n",
    "    \n",
    "    ## calculate distance (eucledian) + pairing it with the label\n",
    "    import math\n",
    "    global y_predict \n",
    "   \n",
    "    global k\n",
    "    k = neightbours\n",
    "    \n",
    "    y_predict = []\n",
    "    for i_data in range(len(predict)):\n",
    "        a = []\n",
    "        a_dict = {}\n",
    "        for i in range(len(data)):\n",
    "            a.append(math.sqrt(sum((predict.iloc[i_data])-(data.iloc[i]))**2))\n",
    "            a_dict[i] = [a[i], y_label[i]]\n",
    "\n",
    "\n",
    "        ## sort distance   \n",
    "        a_dict = sorted(a_dict.items(), key=lambda x: x[1])\n",
    "\n",
    "        ## limit based on k(neighbours)\n",
    "        to_vote = []\n",
    "        i = 0\n",
    "        while i < neightbours:\n",
    "            item = a_dict[i][1]\n",
    "            to_vote.append(item[1])\n",
    "            i += 1\n",
    "\n",
    "        ## vote\n",
    "        from statistics import mode\n",
    "#         print(mode(to_vote))\n",
    "        y_predict.append(mode(to_vote))\n",
    "    print('output of this function is :')\n",
    "    print('labeled target : ',key_label)\n",
    "    print('y_predict, k :', k, ', dataset for prediction')"
   ]
  },
  {
   "cell_type": "markdown",
   "id": "52c707c0",
   "metadata": {},
   "source": [
    "## accuracy "
   ]
  },
  {
   "cell_type": "code",
   "execution_count": 122,
   "id": "59669ad9",
   "metadata": {},
   "outputs": [],
   "source": [
    "def accuracy(y1,y2):\n",
    "    comparison = []\n",
    "    for item1, item2 in zip(y1, y2):\n",
    "        comparison.append(item1 == item2)\n",
    "\n",
    "    print('accuracy : ',round(comparison.count(True)/len(comparison),2))\n"
   ]
  },
  {
   "cell_type": "markdown",
   "id": "412dabbf",
   "metadata": {},
   "source": [
    "## labelization"
   ]
  },
  {
   "cell_type": "code",
   "execution_count": 153,
   "id": "ec722338",
   "metadata": {},
   "outputs": [],
   "source": [
    "def labelization(data):\n",
    "    target = data.iloc[:, -1]\n",
    "# create label for target\n",
    "    key_label = {}\n",
    "    for i, value in enumerate(target.unique()):\n",
    "        key_label[i] = value\n",
    "    key_label\n",
    "\n",
    "    global y_label_lz\n",
    "    # labelling target\n",
    "    y_label_lz = []\n",
    "    for i in target:\n",
    "        for j,m in key_label.items():\n",
    "            if i == m :\n",
    "                y_label_lz.append(j)\n",
    "    print('labelization is done, the variabel called \"y_label_z\"')"
   ]
  },
  {
   "cell_type": "markdown",
   "id": "10360c6d",
   "metadata": {},
   "source": [
    "# Work"
   ]
  },
  {
   "cell_type": "code",
   "execution_count": 2,
   "id": "d0b69175",
   "metadata": {},
   "outputs": [],
   "source": [
    "import pandas as pd"
   ]
  },
  {
   "cell_type": "code",
   "execution_count": 96,
   "id": "6a99913b",
   "metadata": {},
   "outputs": [],
   "source": [
    "df = pd.read_csv('Iris.csv')"
   ]
  },
  {
   "cell_type": "code",
   "execution_count": 103,
   "id": "acff64de",
   "metadata": {},
   "outputs": [],
   "source": [
    "df = df.drop(columns = 'Id')"
   ]
  },
  {
   "cell_type": "markdown",
   "id": "bbaf5409",
   "metadata": {},
   "source": [
    "### split dataset"
   ]
  },
  {
   "cell_type": "code",
   "execution_count": 104,
   "id": "6ae1eb1a",
   "metadata": {},
   "outputs": [
    {
     "name": "stdout",
     "output_type": "stream",
     "text": [
      "No. of training examples: 120\n",
      "No. of testing examples: 30\n"
     ]
    }
   ],
   "source": [
    "training_data = df.sample(frac=0.8, random_state=25)\n",
    "testing_data = df.drop(training_data.index)\n",
    "\n",
    "print(f\"No. of training examples: {training_data.shape[0]}\")\n",
    "print(f\"No. of testing examples: {testing_data.shape[0]}\")"
   ]
  },
  {
   "cell_type": "code",
   "execution_count": 147,
   "id": "1918c980",
   "metadata": {},
   "outputs": [
    {
     "name": "stdout",
     "output_type": "stream",
     "text": [
      "output of this function is :\n",
      "labeled target :  {0: 'Iris-setosa', 1: 'Iris-versicolor', 2: 'Iris-virginica'}\n",
      "y_predict, k : 5 , dataset for prediction\n"
     ]
    }
   ],
   "source": [
    "knn_classifier(training_data,testing_data,5)"
   ]
  },
  {
   "cell_type": "code",
   "execution_count": 154,
   "id": "ca7d88f7",
   "metadata": {},
   "outputs": [
    {
     "name": "stdout",
     "output_type": "stream",
     "text": [
      "labelization is done, the variabel called \"y_label_z\"\n"
     ]
    }
   ],
   "source": [
    "labelization(testing_data)"
   ]
  },
  {
   "cell_type": "code",
   "execution_count": 155,
   "id": "3c90becd",
   "metadata": {},
   "outputs": [
    {
     "name": "stdout",
     "output_type": "stream",
     "text": [
      "accuracy :  0.83\n"
     ]
    }
   ],
   "source": [
    "accuracy(y_predict,y_label_lz)"
   ]
  }
 ],
 "metadata": {
  "kernelspec": {
   "display_name": "Python 3 (ipykernel)",
   "language": "python",
   "name": "python3"
  },
  "language_info": {
   "codemirror_mode": {
    "name": "ipython",
    "version": 3
   },
   "file_extension": ".py",
   "mimetype": "text/x-python",
   "name": "python",
   "nbconvert_exporter": "python",
   "pygments_lexer": "ipython3",
   "version": "3.9.13"
  }
 },
 "nbformat": 4,
 "nbformat_minor": 5
}
